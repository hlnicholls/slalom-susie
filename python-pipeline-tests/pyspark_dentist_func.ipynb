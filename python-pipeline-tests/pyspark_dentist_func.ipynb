{
 "cells": [
  {
   "cell_type": "code",
   "execution_count": 13,
   "metadata": {},
   "outputs": [],
   "source": [
    "import pyspark.sql.functions as f\n",
    "from pyspark.sql.types import DoubleType\n",
    "import math\n",
    "from pyspark.sql.functions import udf\n",
    "\n",
    "from pyspark.sql import SparkSession\n",
    "from pyspark.sql import functions as F\n",
    "from pyspark.sql.types import DoubleType\n",
    "\n",
    "from pyspark.sql import SparkSession"
   ]
  },
  {
   "cell_type": "code",
   "execution_count": 14,
   "metadata": {},
   "outputs": [],
   "source": [
    "# Initialize a Spark session\n",
    "spark = SparkSession.builder.appName(\"ReadGZFile\").getOrCreate()\n",
    "\n",
    "# Replace 'your_file.txt.gz' with the actual path to your .txt.gz file\n",
    "file_path = '/Users/hn9/Desktop/locus_dentist_test.txt.gz'\n",
    "\n",
    "filtered_StudyLocus = spark.read.option(\"header\", \"true\").option(\"delimiter\", \"\\t\").csv(file_path)\n"
   ]
  },
  {
   "cell_type": "code",
   "execution_count": 15,
   "metadata": {},
   "outputs": [],
   "source": [
    "from pyspark.sql import functions as f\n",
    "from pyspark.sql import Window\n",
    "from pyspark.sql import SparkSession\n",
    "from pyspark.sql.functions import lit\n",
    "\n",
    "def calculate_dentist(filtered_StudyLocus, lead_snp_ID, n_sample=500000, r2_threshold=0.6, nlog10p_dentist_s_threshold=1):\n",
    "    # Calculate 'r' using aggregation\n",
    "    agg_result = filtered_StudyLocus.agg((F.sum(\"R2\") * n_sample).alias(\"R2_sum\"), (F.count(\"R2\") * n_sample).alias(\"R2_count\"))\n",
    "    agg_result = agg_result.withColumn(\"r\", agg_result[\"R2_sum\"] / agg_result[\"R2_count\"])\n",
    "    filtered_StudyLocus = filtered_StudyLocus.crossJoin(agg_result.select(\"r\"))\n",
    "\n",
    "    # Find the lead SNP\n",
    "    lead_idx_snp = filtered_StudyLocus.filter(filtered_StudyLocus.ID == lead_snp_ID).first()\n",
    "\n",
    "    # Calculate 't_dentist_s' and 'dentist_outlier'\n",
    "    lead_z = lead_idx_snp.Z\n",
    "    filtered_StudyLocus = filtered_StudyLocus.withColumn(\n",
    "        \"t_dentist_s\",\n",
    "        ((filtered_StudyLocus.Z - filtered_StudyLocus.r * lead_z) ** 2) / (1 - filtered_StudyLocus.r ** 2)\n",
    "    )\n",
    "    filtered_StudyLocus = filtered_StudyLocus.withColumn(\"t_dentist_s\", F.when(filtered_StudyLocus[\"t_dentist_s\"] < 0, float(\"inf\")).otherwise(filtered_StudyLocus[\"t_dentist_s\"]))\n",
    "    def calc_nlog10p_dentist_s(t_dentist_s):\n",
    "        return math.log(1 - math.exp(-t_dentist_s)) / -math.log(10)\n",
    "\n",
    "    udf_calc_nlog10p_dentist_s = F.udf(calc_nlog10p_dentist_s, DoubleType())\n",
    "    filtered_StudyLocus = filtered_StudyLocus.withColumn(\"nlog10p_dentist_s\", udf_calc_nlog10p_dentist_s(filtered_StudyLocus[\"t_dentist_s\"]))\n",
    "\n",
    "    #n_dentist_s_outlier = filtered_StudyLocus.filter((filtered_StudyLocus.R2 > r2_threshold) & (filtered_StudyLocus.nlog10p_dentist_s > nlog10p_dentist_s_threshold)).count()\n",
    "\n",
    "    filtered_StudyLocus = filtered_StudyLocus.withColumn(\n",
    "        \"dentist_outlier\",\n",
    "        F.when((filtered_StudyLocus.R2 > r2_threshold) & (filtered_StudyLocus.nlog10p_dentist_s > nlog10p_dentist_s_threshold), 1).otherwise(0)\n",
    "    )\n",
    "    return filtered_StudyLocus\n",
    "\n"
   ]
  },
  {
   "cell_type": "code",
   "execution_count": 17,
   "metadata": {},
   "outputs": [],
   "source": [
    "test = calculate_dentist(filtered_StudyLocus, lead_snp_ID=\"1_155162560_G_A\")"
   ]
  },
  {
   "cell_type": "code",
   "execution_count": 18,
   "metadata": {},
   "outputs": [
    {
     "name": "stdout",
     "output_type": "stream",
     "text": [
      "+---------------+-----+---------+---+---+-------------------+------+-----------+--------------------+-------------------+-------------------+---------------+\n",
      "|             ID|chrom|      pos|ref|alt|                  Z|  pval|         R2|                   r|        t_dentist_s|  nlog10p_dentist_s|dentist_outlier|\n",
      "+---------------+-----+---------+---+---+-------------------+------+-----------+--------------------+-------------------+-------------------+---------------+\n",
      "|1_154662946_C_T|    1|154662946|  C|  T|-0.0635976583288984|0.9494| 1.3828e-05|0.008661797923748287|0.02633732386848109| 1.5851348809150372|              0|\n",
      "|1_154662972_C_T|    1|154662972|  C|  T|   1.47142857142857|0.1413|0.000146955|0.008661797923748287| 1.8845689564218693|0.07155012982540826|              0|\n",
      "|1_154663409_G_T|    1|154663409|  G|  T|  0.686363636363636|0.4926|1.10038e-06|0.008661797923748287|0.34539322804009587| 0.5345307684064269|              0|\n",
      "|1_154663800_G_A|    1|154663800|  G|  A|  0.727272727272727|0.4676| 9.8361e-07|0.008661797923748287| 0.3951533916088011|0.48621886271388565|              0|\n",
      "|1_154664496_C_T|    1|154664496|  C|  T|   1.45714285714286|0.1457|0.000144346|0.008661797923748287| 1.8455488380217497|0.07465624761703915|              0|\n",
      "+---------------+-----+---------+---+---+-------------------+------+-----------+--------------------+-------------------+-------------------+---------------+\n",
      "only showing top 5 rows\n",
      "\n"
     ]
    }
   ],
   "source": [
    "test.show(5)"
   ]
  },
  {
   "cell_type": "code",
   "execution_count": 3,
   "metadata": {},
   "outputs": [
    {
     "name": "stdout",
     "output_type": "stream",
     "text": [
      "23/10/18 09:37:01 WARN ExtractPythonUDFFromJoinCondition: The join condition:(calc_nlog10p_dentist_s(CASE WHEN ((POWER((cast(Z#22 as double) - (r#48 * 11.3930197268589)), 2.0) / (1.0 - POWER(r#48, 2.0))) < 0.0) THEN Infinity ELSE (POWER((cast(Z#22 as double) - (r#48 * 11.3930197268589)), 2.0) / (1.0 - POWER(r#48, 2.0))) END)#114 > 1.0) of the join plan contains PythonUDF only, it will be moved out and the join plan will be turned to cross join.\n"
     ]
    },
    {
     "name": "stderr",
     "output_type": "stream",
     "text": [
      "                                                                                \r"
     ]
    },
    {
     "name": "stdout",
     "output_type": "stream",
     "text": [
      "Number of DENTIST outliers detected: 0\n",
      "+---------------+-----+---------+---+---+-------------------+-------+-----------+--------------------+--------------------+--------------------+\n",
      "|             ID|chrom|      pos|ref|alt|                  Z|   pval|         R2|                   r|         t_dentist_s|   nlog10p_dentist_s|\n",
      "+---------------+-----+---------+---+---+-------------------+-------+-----------+--------------------+--------------------+--------------------+\n",
      "|1_154662946_C_T|    1|154662946|  C|  T|-0.0635976583288984| 0.9494| 1.3828e-05|0.008661797923748287| 0.02633732386848109|  1.5851348809150372|\n",
      "|1_154662972_C_T|    1|154662972|  C|  T|   1.47142857142857| 0.1413|0.000146955|0.008661797923748287|  1.8845689564218693| 0.07155012982540826|\n",
      "|1_154663409_G_T|    1|154663409|  G|  T|  0.686363636363636| 0.4926|1.10038e-06|0.008661797923748287| 0.34539322804009587|  0.5345307684064269|\n",
      "|1_154663800_G_A|    1|154663800|  G|  A|  0.727272727272727| 0.4676| 9.8361e-07|0.008661797923748287|  0.3951533916088011| 0.48621886271388565|\n",
      "|1_154664496_C_T|    1|154664496|  C|  T|   1.45714285714286| 0.1457|0.000144346|0.008661797923748287|  1.8455488380217497| 0.07465624761703915|\n",
      "|1_154664637_G_A|    1|154664637|  G|  A|  0.779396462018731| 0.4358|2.10652e-07|0.008661797923748287| 0.46340417652761434|  0.4307880131189846|\n",
      "|1_154664711_T_C|    1|154664711|  T|  C| -0.422315789473684| 0.6729| 2.3763e-05|0.008661797923748287|  0.2714611835493096|   0.623906640447845|\n",
      "|1_154664912_C_A|    1|154664912|  C|  A|  -1.48095238095238| 0.1393|0.000135414|0.008661797923748287|  2.4954384300060406|  0.0373751311226165|\n",
      "|1_154665108_C_T|    1|154665108|  C|  T|  0.221276595744681| 0.8258| 0.00107396|0.008661797923748287|0.015030063700984388|  1.8262988277898373|\n",
      "|1_154665321_C_T|    1|154665321|  C|  T| -0.129740518962076| 0.8968|0.000201373|0.008661797923748287|0.052181691699423716|  1.2937636838949986|\n",
      "|1_154665474_T_C|    1|154665474|  T|  C|  0.579787234042553|  0.563|0.000734762|0.008661797923748287| 0.23147765551374394|  0.6847864948781838|\n",
      "|1_154665543_G_A|    1|154665543|  G|  A|   1.45497630331754| 0.1443|0.000170072|0.008661797923748287|  1.8396667423457724| 0.07513706400296284|\n",
      "|1_154665840_G_A|    1|154665840|  G|  A|  0.290766208251474| 0.7714| 6.5033e-06|0.008661797923748287| 0.03689832979030221|  1.4409810256808724|\n",
      "|1_154665892_T_G|    1|154665892|  T|  G|  -1.45971563981043| 0.1433| 0.00016695|0.008661797923748287|  2.4287917695868715| 0.04007339014413723|\n",
      "|1_154666225_T_G|    1|154666225|  T|  G|  -1.88838120104439|0.05902|4.83153e-05|0.008661797923748287|   3.948724510707533| 0.00845464762376794|\n",
      "|1_154666350_A_G|    1|154666350|  A|  G| -0.702325581395349| 0.4812|0.000560156|0.008661797923748287|  0.6416645469428051| 0.32460247531360154|\n",
      "|1_154666639_T_C|    1|154666639|  T|  C| 0.0452261306532663|  0.964|2.78539e-05|0.008661797923748287|0.002857961919592...|  2.5445640129281113|\n",
      "|1_154666779_C_T|    1|154666779|  C|  T|  0.654255319148936| 0.5126|0.000695721|0.008661797923748287|   0.308682611649378|  0.5757945397486542|\n",
      "|1_154667142_T_C|    1|154667142|  T|  C|   -2.4061135371179| 0.0161|0.000368604|0.008661797923748287|   6.274481629283048|   8.188812727298E-4|\n",
      "|1_154667545_G_A|    1|154667545|  G|  A|   2.53907022749753|0.01112|5.34228e-06|0.008661797923748287|    5.95593162456302|0.001126468844981711|\n",
      "+---------------+-----+---------+---+---+-------------------+-------+-----------+--------------------+--------------------+--------------------+\n",
      "only showing top 20 rows\n",
      "\n"
     ]
    }
   ],
   "source": [
    "import math\n",
    "# Define constants\n",
    "n_sample = 500000\n",
    "r2_threshold = 0.6\n",
    "nlog10p_dentist_s_threshold = 1\n",
    "lead_snp_ID = \"1_155162560_G_A\"\n",
    "\n",
    "# Calculate 'r' using aggregation\n",
    "agg_result = filtered_StudyLocus.agg((F.sum(\"R2\") * n_sample).alias(\"R2_sum\"), (F.count(\"R2\") * n_sample).alias(\"R2_count\"))\n",
    "agg_result = agg_result.withColumn(\"r\", agg_result[\"R2_sum\"] / agg_result[\"R2_count\"])\n",
    "\n",
    "# Join the 'r' result back to the original DataFrame on a common column, for example, a column 'key' if you have one\n",
    "filtered_StudyLocus = filtered_StudyLocus.crossJoin(agg_result.select(\"r\"))\n",
    "\n",
    "# Find the lead SNP\n",
    "lead_idx_snp = filtered_StudyLocus.filter(filtered_StudyLocus.ID == lead_snp_ID).first()\n",
    "\n",
    "# Calculate 't_dentist_s' and 'dentist_outlier'\n",
    "lead_z = lead_idx_snp.Z\n",
    "filtered_StudyLocus = filtered_StudyLocus.withColumn(\n",
    "    \"t_dentist_s\",\n",
    "    ((df.Z - df.r * lead_z) ** 2) / (1 - df.r ** 2)\n",
    ")\n",
    "df = df.withColumn(\"t_dentist_s\", F.when(df[\"t_dentist_s\"] < 0, float(\"inf\")).otherwise(df[\"t_dentist_s\"]))\n",
    "\n",
    "# Calculate 'nlog10p_dentist_s' using a plain Python function\n",
    "import math\n",
    "\n",
    "def calc_nlog10p_dentist_s(t_dentist_s):\n",
    "    return math.log(1 - math.exp(-t_dentist_s)) / -math.log(10)\n",
    "\n",
    "udf_calc_nlog10p_dentist_s = F.udf(calc_nlog10p_dentist_s, DoubleType())\n",
    "df = df.withColumn(\"nlog10p_dentist_s\", udf_calc_nlog10p_dentist_s(df[\"t_dentist_s\"]))\n",
    "\n",
    "n_dentist_s_outlier = df.filter((df.R2 > r2_threshold) & (df.nlog10p_dentist_s > nlog10p_dentist_s_threshold)).count()\n",
    "\n",
    "df = df.withColumn(\n",
    "    \"dentist_outlier\",\n",
    "    F.when((df.R2 > r2_threshold) & (df.nlog10p_dentist_s > nlog10p_dentist_s_threshold), 1).otherwise(0)\n",
    ")\n"
   ]
  },
  {
   "cell_type": "code",
   "execution_count": 4,
   "metadata": {},
   "outputs": [
    {
     "name": "stdout",
     "output_type": "stream",
     "text": [
      "23/10/18 09:37:22 WARN ExtractPythonUDFFromJoinCondition: The join condition:(calc_nlog10p_dentist_s(CASE WHEN ((POWER((cast(Z#22 as double) - (r#48 * 11.3930197268589)), 2.0) / (1.0 - POWER(r#48, 2.0))) < 0.0) THEN Infinity ELSE (POWER((cast(Z#22 as double) - (r#48 * 11.3930197268589)), 2.0) / (1.0 - POWER(r#48, 2.0))) END)#114 > 1.0) of the join plan contains PythonUDF only, it will be moved out and the join plan will be turned to cross join.\n",
      "Number of DENTIST outliers detected: 0\n"
     ]
    }
   ],
   "source": [
    "\n",
    "# Count the number of DENTIST outliers and create a new column\n",
    "n_dentist_s_outlier = df.filter((df.R2 > r2_threshold) & (df.nlog10p_dentist_s > nlog10p_dentist_s_threshold)).count()\n",
    "print(\"Number of DENTIST outliers detected:\", n_dentist_s_outlier)\n",
    "\n",
    "df = df.withColumn(\n",
    "    \"dentist_outlier\",\n",
    "    F.when((df.R2 > r2_threshold) & (df.nlog10p_dentist_s > nlog10p_dentist_s_threshold), 1).otherwise(0)\n",
    ")\n"
   ]
  },
  {
   "cell_type": "code",
   "execution_count": 30,
   "metadata": {},
   "outputs": [
    {
     "name": "stdout",
     "output_type": "stream",
     "text": [
      "+---------------+-----+---------+---+---+-------------------+------+-----------+--------------------+-------------------+\n",
      "|             ID|chrom|      pos|ref|alt|                  Z|  pval|         R2|                   r|        t_dentist_s|\n",
      "+---------------+-----+---------+---+---+-------------------+------+-----------+--------------------+-------------------+\n",
      "|1_154662946_C_T|    1|154662946|  C|  T|-0.0635976583288984|0.9494| 1.3828e-05|0.008661797923748287|0.02633732386848109|\n",
      "|1_154662972_C_T|    1|154662972|  C|  T|   1.47142857142857|0.1413|0.000146955|0.008661797923748287| 1.8845689564218693|\n",
      "|1_154663409_G_T|    1|154663409|  G|  T|  0.686363636363636|0.4926|1.10038e-06|0.008661797923748287|0.34539322804009587|\n",
      "|1_154663800_G_A|    1|154663800|  G|  A|  0.727272727272727|0.4676| 9.8361e-07|0.008661797923748287| 0.3951533916088011|\n",
      "|1_154664496_C_T|    1|154664496|  C|  T|   1.45714285714286|0.1457|0.000144346|0.008661797923748287| 1.8455488380217497|\n",
      "+---------------+-----+---------+---+---+-------------------+------+-----------+--------------------+-------------------+\n",
      "only showing top 5 rows\n",
      "\n"
     ]
    }
   ],
   "source": [
    "df.show(5)"
   ]
  },
  {
   "cell_type": "code",
   "execution_count": null,
   "metadata": {},
   "outputs": [],
   "source": []
  }
 ],
 "metadata": {
  "kernelspec": {
   "display_name": "test_env",
   "language": "python",
   "name": "python3"
  },
  "language_info": {
   "codemirror_mode": {
    "name": "ipython",
    "version": 3
   },
   "file_extension": ".py",
   "mimetype": "text/x-python",
   "name": "python",
   "nbconvert_exporter": "python",
   "pygments_lexer": "ipython3",
   "version": "3.8.15"
  }
 },
 "nbformat": 4,
 "nbformat_minor": 2
}

{
 "cells": [
  {
   "cell_type": "code",
   "execution_count": 9,
   "metadata": {},
   "outputs": [
    {
     "name": "stdout",
     "output_type": "stream",
     "text": [
      "PLINK v1.90b6.21 64-bit (19 Oct 2020)          www.cog-genomics.org/plink/1.9/\n",
      "(C) 2005-2020 Shaun Purcell, Christopher Chang   GNU General Public License v3\n",
      "Logging to /Users/hn9/Documents/GitHub/fine-mapping-inf/susieinf/loci/ld/PCSK9_subset_for_ld_calculation.log.\n",
      "Options in effect:\n",
      "  --allow-extra-chr\n",
      "  --bfile /Users/hn9/Documents/Analysis/FM-comparison/ukb_v3_downsampled10k/ukb_v3_chr1.downsampled10k\n",
      "  --ld-snp 1:55055569:T:G\n",
      "  --ld-window 99999\n",
      "  --ld-window-kb 1000\n",
      "  --ld-window-r2 0\n",
      "  --out /Users/hn9/Documents/GitHub/fine-mapping-inf/susieinf/loci/ld/PCSK9_subset_for_ld_calculation\n",
      "  --r2\n",
      "\n",
      "16384 MB RAM detected; reserving 8192 MB for main workspace.\n",
      "1233761 variants loaded from .bim file.\n",
      "10000 people (0 males, 0 females, 10000 ambiguous) loaded from .fam.\n",
      "Ambiguous sex IDs written to\n",
      "/Users/hn9/Documents/GitHub/fine-mapping-inf/susieinf/loci/ld/PCSK9_subset_for_ld_calculation.nosex\n",
      ".\n",
      "Using up to 8 threads (change this with --threads).\n",
      "Before main variant filters, 10000 founders and 0 nonfounders present.\n",
      "Calculating allele frequencies... 10111213141516171819202122232425262728293031323334353637383940414243444546474849505152535455565758596061626364656667686970717273747576777879808182838485868788899091929394959697989 done.\n",
      "Total genotyping rate is 0.99998.\n",
      "1233761 variants and 10000 people pass filters and QC.\n",
      "Note: No phenotypes present.\n",
      "--r2 to\n",
      "/Users/hn9/Documents/GitHub/fine-mapping-inf/susieinf/loci/ld/PCSK9_subset_for_ld_calculation.ld\n",
      "... 0% [processingwriting]          done.\n"
     ]
    }
   ],
   "source": [
    "!plink --bfile /Users/hn9/Documents/Analysis/FM-comparison/ukb_v3_downsampled10k/ukb_v3_chr1.downsampled10k \\\n",
    "        --allow-extra-chr \\\n",
    "        --r2 \\\n",
    "        --ld-snp 1:55055569:T:G \\\n",
    "        --ld-window-kb 1000 \\\n",
    "        --ld-window 99999 \\\n",
    "        --ld-window-r2 0 \\\n",
    "        --out /Users/hn9/Documents/GitHub/fine-mapping-inf/susieinf/loci/ld/PCSK9_subset_for_ld_calculation"
   ]
  },
  {
   "cell_type": "markdown",
   "metadata": {},
   "source": [
    "# Test runs to get LD with lead SNP for a locus (only need to run cell above):"
   ]
  },
  {
   "cell_type": "code",
   "execution_count": null,
   "metadata": {},
   "outputs": [],
   "source": [
    "!plink --bfile /Users/hn9/Documents/Analysis/FM-comparison/ukb_v3_downsampled10k/ukb_v3_chr8.downsampled10k --allow-extra-chr --ld 8:27362470:C:T /Users/hn9/Documents/GitHub/fine-mapping-inf/susieinf/test-loci/PTK2B_SNPs_for_LD_calc.txt  --out /Users/hn9/Documents/GitHub/fine-mapping-inf/susieinf/test-loci\n"
   ]
  },
  {
   "cell_type": "code",
   "execution_count": 2,
   "metadata": {},
   "outputs": [
    {
     "name": "stdout",
     "output_type": "stream",
     "text": [
      "PLINK v1.90b6.21 64-bit (19 Oct 2020)          www.cog-genomics.org/plink/1.9/\n",
      "(C) 2005-2020 Shaun Purcell, Christopher Chang   GNU General Public License v3\n",
      "Logging to /Users/hn9/Documents/GitHub/fine-mapping-inf/susieinf/test-loci/subset_for_ld_calculation.log.\n",
      "Options in effect:\n",
      "  --allow-extra-chr\n",
      "  --bfile /Users/hn9/Documents/Analysis/FM-comparison/ukb_v3_downsampled10k/ukb_v3_chr8.downsampled10k\n",
      "  --ld-snp 8:27362470:C:T\n",
      "  --ld-window 99999\n",
      "  --ld-window-kb 1000\n",
      "  --ld-window-r2 0\n",
      "  --out /Users/hn9/Documents/GitHub/fine-mapping-inf/susieinf/test-loci/subset_for_ld_calculation\n",
      "  --r2\n",
      "\n",
      "16384 MB RAM detected; reserving 8192 MB for main workspace.\n",
      "864765 variants loaded from .bim file.\n",
      "10000 people (0 males, 0 females, 10000 ambiguous) loaded from .fam.\n",
      "Ambiguous sex IDs written to\n",
      "/Users/hn9/Documents/GitHub/fine-mapping-inf/susieinf/test-loci/subset_for_ld_calculation.nosex\n",
      ".\n",
      "Using up to 8 threads (change this with --threads).\n",
      "Before main variant filters, 10000 founders and 0 nonfounders present.\n",
      "Calculating allele frequencies... 10111213141516171819202122232425262728293031323334353637383940414243444546474849505152535455565758596061626364656667686970717273747576777879808182838485868788899091929394959697989 done.\n",
      "Total genotyping rate is 0.999988.\n",
      "864765 variants and 10000 people pass filters and QC.\n",
      "Note: No phenotypes present.\n",
      "--r2 to\n",
      "/Users/hn9/Documents/GitHub/fine-mapping-inf/susieinf/test-loci/subset_for_ld_calculation.ld\n",
      "... 0% [processingwriting]          done.\n"
     ]
    }
   ],
   "source": [
    "!plink --bfile /Users/hn9/Documents/Analysis/FM-comparison/ukb_v3_downsampled10k/ukb_v3_chr8.downsampled10k \\\n",
    "        --allow-extra-chr \\\n",
    "        --r2 \\\n",
    "        --ld-snp 8:27362470:C:T \\\n",
    "        --ld-window-kb 1000 \\\n",
    "        --ld-window 99999 \\\n",
    "        --ld-window-r2 0 \\\n",
    "        --out /Users/hn9/Documents/GitHub/fine-mapping-inf/susieinf/test-loci/subset_for_ld_calculation"
   ]
  },
  {
   "cell_type": "code",
   "execution_count": null,
   "metadata": {},
   "outputs": [],
   "source": []
  },
  {
   "cell_type": "code",
   "execution_count": 15,
   "metadata": {},
   "outputs": [
    {
     "name": "stdout",
     "output_type": "stream",
     "text": [
      "PLINK v1.90b6.21 64-bit (19 Oct 2020)          www.cog-genomics.org/plink/1.9/\n",
      "(C) 2005-2020 Shaun Purcell, Christopher Chang   GNU General Public License v3\n",
      "Logging to /Users/hn9/Documents/GitHub/fine-mapping-inf/susieinf/test-loci/subset_for_ld_calculation.log.\n",
      "Options in effect:\n",
      "  --allow-extra-chr\n",
      "  --bfile /Users/hn9/Documents/Analysis/FM-comparison/ukb_v3_downsampled10k/ukb_v3_chr8.downsampled10k\n",
      "  --extract /Users/hn9/Documents/GitHub/fine-mapping-inf/susieinf/test-loci/PTK2B_SNPs_for_LD_calc.txt\n",
      "  --make-bed\n",
      "  --out /Users/hn9/Documents/GitHub/fine-mapping-inf/susieinf/test-loci/subset_for_ld_calculation\n",
      "\n",
      "16384 MB RAM detected; reserving 8192 MB for main workspace.\n",
      "864765 variants loaded from .bim file.\n",
      "10000 people (0 males, 0 females, 10000 ambiguous) loaded from .fam.\n",
      "Ambiguous sex IDs written to\n",
      "/Users/hn9/Documents/GitHub/fine-mapping-inf/susieinf/test-loci/subset_for_ld_calculation.nosex\n",
      ".\n",
      "--extract: 4551 variants remaining.\n",
      "Using 1 thread (no multithreaded calculations invoked).\n",
      "Before main variant filters, 10000 founders and 0 nonfounders present.\n",
      "Calculating allele frequencies... 10111213141516171819202122232425262728293031323334353637383940414243444546474849505152535455565758596061626364656667686970717273747576777879808182838485868788899091929394959697989 done.\n",
      "Total genotyping rate is 0.999999.\n",
      "4551 variants and 10000 people pass filters and QC.\n",
      "Note: No phenotypes present.\n",
      "--make-bed to\n",
      "/Users/hn9/Documents/GitHub/fine-mapping-inf/susieinf/test-loci/subset_for_ld_calculation.bed\n",
      "+\n",
      "/Users/hn9/Documents/GitHub/fine-mapping-inf/susieinf/test-loci/subset_for_ld_calculation.bim\n",
      "+\n",
      "/Users/hn9/Documents/GitHub/fine-mapping-inf/susieinf/test-loci/subset_for_ld_calculation.fam\n",
      "... 101112131415161718192021222324252627282930313233343536373839404142434445464748495051525354555657585960616263646566676869707172737475767778798081828384858687888990919293949596979899done.\n"
     ]
    }
   ],
   "source": [
    "!plink \\\n",
    "  --bfile /Users/hn9/Documents/Analysis/FM-comparison/ukb_v3_downsampled10k/ukb_v3_chr8.downsampled10k \\\n",
    "  --allow-extra-chr \\\n",
    "  --extract /Users/hn9/Documents/GitHub/fine-mapping-inf/susieinf/test-loci/PTK2B_SNPs_for_LD_calc.txt \\\n",
    "  --make-bed \\\n",
    "  --out /Users/hn9/Documents/GitHub/fine-mapping-inf/susieinf/test-loci/subset_for_ld_calculation\n"
   ]
  },
  {
   "cell_type": "code",
   "execution_count": 17,
   "metadata": {},
   "outputs": [
    {
     "name": "stdout",
     "output_type": "stream",
     "text": [
      "PLINK v1.90b6.21 64-bit (19 Oct 2020)          www.cog-genomics.org/plink/1.9/\n",
      "(C) 2005-2020 Shaun Purcell, Christopher Chang   GNU General Public License v3\n",
      "Logging to /Users/hn9/Documents/GitHub/fine-mapping-inf/susieinf/test-loci/PTK2B_ld_results.log.\n",
      "Options in effect:\n",
      "  --bfile /Users/hn9/Documents/GitHub/fine-mapping-inf/susieinf/test-loci/subset_for_ld_calculation\n",
      "  --ld-window-r2 0\n",
      "  --out /Users/hn9/Documents/GitHub/fine-mapping-inf/susieinf/test-loci/PTK2B_ld_results\n",
      "  --r2\n",
      "\n",
      "16384 MB RAM detected; reserving 8192 MB for main workspace.\n",
      "4551 variants loaded from .bim file.\n",
      "10000 people (0 males, 0 females, 10000 ambiguous) loaded from .fam.\n",
      "Ambiguous sex IDs written to\n",
      "/Users/hn9/Documents/GitHub/fine-mapping-inf/susieinf/test-loci/PTK2B_ld_results.nosex\n",
      ".\n",
      "Using up to 8 threads (change this with --threads).\n",
      "Before main variant filters, 10000 founders and 0 nonfounders present.\n",
      "Calculating allele frequencies... 10111213141516171819202122232425262728293031323334353637383940414243444546474849505152535455565758596061626364656667686970717273747576777879808182838485868788899091929394959697989 done.\n",
      "Total genotyping rate is 0.999999.\n",
      "4551 variants and 10000 people pass filters and QC.\n",
      "Note: No phenotypes present.\n",
      "--r2 to\n",
      "/Users/hn9/Documents/GitHub/fine-mapping-inf/susieinf/test-loci/PTK2B_ld_results.ld\n",
      "... 0% [processingwriting]          done.\n"
     ]
    }
   ],
   "source": [
    "!plink \\\n",
    "  --bfile /Users/hn9/Documents/GitHub/fine-mapping-inf/susieinf/test-loci/subset_for_ld_calculation \\\n",
    "  --r2 \\\n",
    "  --ld-window-r2 0 \\\n",
    "  --out /Users/hn9/Documents/GitHub/fine-mapping-inf/susieinf/test-loci/PTK2B_ld_results\n"
   ]
  },
  {
   "cell_type": "code",
   "execution_count": 9,
   "metadata": {},
   "outputs": [
    {
     "name": "stdout",
     "output_type": "stream",
     "text": [
      "PLINK v1.90b6.21 64-bit (19 Oct 2020)          www.cog-genomics.org/plink/1.9/\n",
      "(C) 2005-2020 Shaun Purcell, Christopher Chang   GNU General Public License v3\n",
      "Logging to /Users/hn9/Documents/GitHub/fine-mapping-inf/susieinf/test-loci.log.\n",
      "Options in effect:\n",
      "  --allow-extra-chr\n",
      "  --bfile /Users/hn9/Documents/Analysis/FM-comparison/ukb_v3_downsampled10k/ukb_v3_chr8.downsampled10k\n",
      "  --ld-snp 8:27362470:C:T\n",
      "  --out /Users/hn9/Documents/GitHub/fine-mapping-inf/susieinf/test-loci\n",
      "  --r2\n",
      "\n",
      "16384 MB RAM detected; reserving 8192 MB for main workspace.\n",
      "864765 variants loaded from .bim file.\n",
      "10000 people (0 males, 0 females, 10000 ambiguous) loaded from .fam.\n",
      "Ambiguous sex IDs written to\n",
      "/Users/hn9/Documents/GitHub/fine-mapping-inf/susieinf/test-loci.nosex .\n",
      "Using up to 8 threads (change this with --threads).\n",
      "Before main variant filters, 10000 founders and 0 nonfounders present.\n",
      "Calculating allele frequencies... 10111213141516171819202122232425262728293031323334353637383940414243444546474849505152535455565758596061626364656667686970717273747576777879808182838485868788899091929394959697989 done.\n",
      "Total genotyping rate is 0.999988.\n",
      "864765 variants and 10000 people pass filters and QC.\n",
      "Note: No phenotypes present.\n",
      "--r2 to /Users/hn9/Documents/GitHub/fine-mapping-inf/susieinf/test-loci.ld ...\n",
      "0% [processingwriting]          done.\n"
     ]
    }
   ],
   "source": [
    "!plink \\\n",
    "  --bfile /Users/hn9/Documents/Analysis/FM-comparison/ukb_v3_downsampled10k/ukb_v3_chr8.downsampled10k \\\n",
    "  --allow-extra-chr \\\n",
    "  --r2 \\\n",
    "  --ld-snp 8:27362470:C:T \\\n",
    "  --out /Users/hn9/Documents/GitHub/fine-mapping-inf/susieinf/test-loci"
   ]
  },
  {
   "cell_type": "code",
   "execution_count": null,
   "metadata": {},
   "outputs": [],
   "source": []
  }
 ],
 "metadata": {
  "kernelspec": {
   "display_name": "fm_env",
   "language": "python",
   "name": "python3"
  },
  "language_info": {
   "codemirror_mode": {
    "name": "ipython",
    "version": 3
   },
   "file_extension": ".py",
   "mimetype": "text/x-python",
   "name": "python",
   "nbconvert_exporter": "python",
   "pygments_lexer": "ipython3",
   "version": "3.8.15"
  },
  "orig_nbformat": 4
 },
 "nbformat": 4,
 "nbformat_minor": 2
}
